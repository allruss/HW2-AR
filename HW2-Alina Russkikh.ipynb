{
 "cells": [
  {
   "cell_type": "code",
   "execution_count": 3,
   "metadata": {},
   "outputs": [
    {
     "name": "stdout",
     "output_type": "stream",
     "text": [
      "Collecting seaborn\n",
      "  Downloading seaborn-0.11.0-py3-none-any.whl (283 kB)\n",
      "\u001b[K     |████████████████████████████████| 283 kB 3.5 MB/s eta 0:00:01\n",
      "\u001b[?25hRequirement already satisfied: matplotlib>=2.2 in /srv/conda/envs/notebook/lib/python3.6/site-packages (from seaborn) (3.3.2)\n",
      "Requirement already satisfied: pandas>=0.23 in /srv/conda/envs/notebook/lib/python3.6/site-packages (from seaborn) (1.1.3)\n",
      "Requirement already satisfied: numpy>=1.15 in /srv/conda/envs/notebook/lib/python3.6/site-packages (from seaborn) (1.19.2)\n",
      "Requirement already satisfied: scipy>=1.0 in /srv/conda/envs/notebook/lib/python3.6/site-packages (from seaborn) (1.5.2)\n",
      "Requirement already satisfied: python-dateutil>=2.1 in /srv/conda/envs/notebook/lib/python3.6/site-packages (from matplotlib>=2.2->seaborn) (2.8.1)\n",
      "Requirement already satisfied: certifi>=2020.06.20 in /srv/conda/envs/notebook/lib/python3.6/site-packages (from matplotlib>=2.2->seaborn) (2020.6.20)\n",
      "Requirement already satisfied: pyparsing!=2.0.4,!=2.1.2,!=2.1.6,>=2.0.3 in /srv/conda/envs/notebook/lib/python3.6/site-packages (from matplotlib>=2.2->seaborn) (2.4.7)\n",
      "Requirement already satisfied: cycler>=0.10 in /srv/conda/envs/notebook/lib/python3.6/site-packages/cycler-0.10.0-py3.6.egg (from matplotlib>=2.2->seaborn) (0.10.0)\n",
      "Requirement already satisfied: pillow>=6.2.0 in /srv/conda/envs/notebook/lib/python3.6/site-packages (from matplotlib>=2.2->seaborn) (8.0.1)\n",
      "Requirement already satisfied: kiwisolver>=1.0.1 in /srv/conda/envs/notebook/lib/python3.6/site-packages (from matplotlib>=2.2->seaborn) (1.2.0)\n",
      "Requirement already satisfied: pytz>=2017.2 in /srv/conda/envs/notebook/lib/python3.6/site-packages (from pandas>=0.23->seaborn) (2020.1)\n",
      "Requirement already satisfied: six>=1.5 in /srv/conda/envs/notebook/lib/python3.6/site-packages (from python-dateutil>=2.1->matplotlib>=2.2->seaborn) (1.15.0)\n",
      "Installing collected packages: seaborn\n",
      "Successfully installed seaborn-0.11.0\n"
     ]
    }
   ],
   "source": [
    "#Loading libraries\n",
    "import csv\n",
    "import sqlite3\n",
    "import pandas as pd\n",
    "import sqlite3\n",
    "import csv\n",
    "import numpy as np\n",
    "import pandas as pd\n",
    "import matplotlib.pyplot as plt\n",
    "%matplotlib inline\n",
    "! pip install seaborn\n",
    "import seaborn as sns"
   ]
  },
  {
   "cell_type": "code",
   "execution_count": 6,
   "metadata": {},
   "outputs": [
    {
     "name": "stdout",
     "output_type": "stream",
     "text": [
      "Requirement already satisfied: pandas in /srv/conda/envs/notebook/lib/python3.6/site-packages (1.1.3)\n",
      "Requirement already satisfied: plotnine in /srv/conda/envs/notebook/lib/python3.6/site-packages (0.7.1)\n",
      "Requirement already satisfied: python-dateutil>=2.7.3 in /srv/conda/envs/notebook/lib/python3.6/site-packages (from pandas) (2.8.1)\n",
      "Requirement already satisfied: pytz>=2017.2 in /srv/conda/envs/notebook/lib/python3.6/site-packages (from pandas) (2020.1)\n",
      "Requirement already satisfied: numpy>=1.15.4 in /srv/conda/envs/notebook/lib/python3.6/site-packages (from pandas) (1.19.2)\n",
      "Requirement already satisfied: patsy>=0.5.1 in /srv/conda/envs/notebook/lib/python3.6/site-packages (from plotnine) (0.5.1)\n",
      "Requirement already satisfied: descartes>=1.1.0 in /srv/conda/envs/notebook/lib/python3.6/site-packages (from plotnine) (1.1.0)\n",
      "Requirement already satisfied: mizani>=0.7.1 in /srv/conda/envs/notebook/lib/python3.6/site-packages (from plotnine) (0.7.1)\n",
      "Requirement already satisfied: scipy>=1.2.0 in /srv/conda/envs/notebook/lib/python3.6/site-packages (from plotnine) (1.5.2)\n",
      "Requirement already satisfied: statsmodels>=0.11.1 in /srv/conda/envs/notebook/lib/python3.6/site-packages (from plotnine) (0.12.0)\n",
      "Requirement already satisfied: matplotlib>=3.1.1 in /srv/conda/envs/notebook/lib/python3.6/site-packages (from plotnine) (3.3.2)\n",
      "Requirement already satisfied: six>=1.5 in /srv/conda/envs/notebook/lib/python3.6/site-packages (from python-dateutil>=2.7.3->pandas) (1.15.0)\n",
      "Requirement already satisfied: palettable in /srv/conda/envs/notebook/lib/python3.6/site-packages (from mizani>=0.7.1->plotnine) (3.3.0)\n",
      "Requirement already satisfied: pyparsing!=2.0.4,!=2.1.2,!=2.1.6,>=2.0.3 in /srv/conda/envs/notebook/lib/python3.6/site-packages (from matplotlib>=3.1.1->plotnine) (2.4.7)\n",
      "Requirement already satisfied: pillow>=6.2.0 in /srv/conda/envs/notebook/lib/python3.6/site-packages (from matplotlib>=3.1.1->plotnine) (8.0.1)\n",
      "Requirement already satisfied: certifi>=2020.06.20 in /srv/conda/envs/notebook/lib/python3.6/site-packages (from matplotlib>=3.1.1->plotnine) (2020.6.20)\n",
      "Requirement already satisfied: kiwisolver>=1.0.1 in /srv/conda/envs/notebook/lib/python3.6/site-packages (from matplotlib>=3.1.1->plotnine) (1.2.0)\n",
      "Requirement already satisfied: cycler>=0.10 in /srv/conda/envs/notebook/lib/python3.6/site-packages/cycler-0.10.0-py3.6.egg (from matplotlib>=3.1.1->plotnine) (0.10.0)\n",
      "Note: you may need to restart the kernel to use updated packages.\n"
     ]
    }
   ],
   "source": [
    "pip install pandas plotnine"
   ]
  },
  {
   "cell_type": "code",
   "execution_count": 7,
   "metadata": {},
   "outputs": [],
   "source": [
    "from plotnine import *"
   ]
  },
  {
   "cell_type": "markdown",
   "metadata": {},
   "source": [
    "### Part1"
   ]
  },
  {
   "cell_type": "markdown",
   "metadata": {},
   "source": [
    "I will use the data on the Chuvash additive particle that I have collected. This data will be loaded in csv format and contains the following information:ID of example, meaning of the particle in this example, after which part of speech the particle is placed, is stress on the particle or on the previous word and the position of the particle in the sentence."
   ]
  },
  {
   "cell_type": "markdown",
   "metadata": {},
   "source": [
    "Firstly, a table with information about ID, Meaning and Part Of Speech will be created. "
   ]
  },
  {
   "cell_type": "code",
   "execution_count": 8,
   "metadata": {},
   "outputs": [
    {
     "name": "stdout",
     "output_type": "stream",
     "text": [
      "('201__An.104.1', 'Additive', 'Noun')\n",
      "('201__An.115.1', 'Indef', 'Pronoun')\n",
      "('201__An.125.1', 'Indef', 'Pronoun')\n",
      "('201__An.129.1', 'Additive', 'Noun')\n",
      "('201__An.13.1', 'ScalAdditive', 'Noun')\n",
      "('201__An.146.1', 'ScalAdditive', 'Pronoun')\n",
      "('201__An.156.1', 'Collective', 'Num')\n",
      "('201__An.184.1', 'Additive', 'Adverb')\n",
      "('201__An.193.1', 'Coordination', 'Verb')\n",
      "('201__An.194.1', 'Coordination', 'Verb')\n",
      "('201__An.197.1', 'Additive', 'Pronoun')\n",
      "('201__An.198.1', 'Additive', 'Noun')\n",
      "('201__An.199.1', 'Indef', 'Pronoun')\n",
      "('201__An.204.1', 'Additive', 'Pronoun')\n",
      "('201__An.236.1', 'Coordination', 'Verb')\n",
      "('201__An.35.1', 'ScalAdditive', 'Adj')\n",
      "('201__An.47.1', 'Neg', 'Pronoun')\n",
      "('201__An.74.1', 'Coordination', 'Verb')\n",
      "('201__An.96.1', 'Additive', 'Dem')\n",
      "('201__Zi.10.1', 'Indef', 'Pronoun')\n",
      "('201__Zi.10.1', 'Coordination', 'Noun')\n",
      "('201__Zi.12.1', 'Indef', 'Pronoun')\n",
      "('201__Zi.13.1', 'Indef', 'Pronoun')\n",
      "('201__Zi.21.1', 'ScalAdditive', 'Noun')\n"
     ]
    }
   ],
   "source": [
    "con = sqlite3.connect(\"additive.db\")\n",
    "cur = con.cursor()\n",
    "cur.execute(\"DROP TABLE IF EXISTS additive\")\n",
    "cur.execute(\"CREATE TABLE additive (ID, Meaning, PartOfSpeech);\")  # all the columns names\n",
    "\n",
    "with open('d.csv','r', encoding='utf-8') as fin:\n",
    "    dr = csv.DictReader(fin)  # a comma is the default separator\n",
    "    to_db = [(i['ID'], i['Meaning'], i['PartOfSpeech']) for i in dr]  # put the columns' names again\n",
    "\n",
    "cur.executemany(\"INSERT INTO additive (ID, Meaning, PartOfSpeech) VALUES (?, ?, ?);\", to_db)  # and again, the names of the columns\n",
    "\n",
    "for i in cur.execute(\"SELECT * FROM additive\"):\n",
    "    print(i)\n",
    "    \n",
    "con.commit()"
   ]
  },
  {
   "cell_type": "markdown",
   "metadata": {},
   "source": [
    "Secondly, a table with information about ID, position of stress and position of the particle in clause will be created."
   ]
  },
  {
   "cell_type": "code",
   "execution_count": 9,
   "metadata": {},
   "outputs": [
    {
     "name": "stdout",
     "output_type": "stream",
     "text": [
      "('201__An.104.1', 'Yes', 'Yes', 'Yes')\n",
      "('201__An.115.1', 'Yes', 'Yes', 'No')\n",
      "('201__An.125.1', 'No', 'Yes', 'No')\n",
      "('201__An.129.1', 'No', 'Yes', 'No')\n",
      "('201__An.13.1', 'No', 'Yes', 'No')\n",
      "('201__An.146.1', 'Yes', 'Yes', 'No')\n",
      "('201__An.156.1', 'Yes', 'Yes', 'No')\n",
      "('201__An.184.1', 'No', 'Yes', 'No')\n",
      "('201__An.193.1', 'Yes', 'Yes', 'No')\n",
      "('201__An.194.1', 'Yes', 'Yes', 'Yes')\n",
      "('201__An.197.1', 'No', 'Yes', 'No')\n",
      "('201__An.198.1', 'Yes', 'Yes', 'No')\n",
      "('201__An.199.1', 'No', 'Yes', 'No')\n",
      "('201__An.204.1', 'Yes', 'No', 'No')\n",
      "('201__An.236.1', 'Yes', 'Yes', 'No')\n",
      "('201__An.35.1', 'No', 'Yes', 'No')\n",
      "('201__An.47.1', 'Yes', 'Yes', 'No')\n",
      "('201__An.74.1', 'Yes', 'No', 'No')\n",
      "('201__An.96.1', 'Yes', 'No', 'No')\n",
      "('201__Zi.10.1', 'Yes', 'Yes', 'No')\n",
      "('201__Zi.10.1', 'Yes', 'Yes', 'No')\n",
      "('201__Zi.12.1', 'Yes', 'No', 'No')\n",
      "('201__Zi.13.1', 'Yes', 'No', 'No')\n",
      "('201__Zi.21.1', 'Yes', 'Yes', 'No')\n"
     ]
    }
   ],
   "source": [
    "con1 = sqlite3.connect(\"additive1.db\")\n",
    "cur1 = con.cursor()\n",
    "cur1.execute(\"DROP TABLE IF EXISTS additive1\")\n",
    "cur1.execute(\"CREATE TABLE additive1 (ID, StressOnClitic, StressOnWord, EndOfClause);\")  # all the columns names\n",
    "\n",
    "with open('d.csv','r', encoding='utf-8') as fin:\n",
    "    dr = csv.DictReader(fin)  # a comma is the default separator\n",
    "    to_db = [(i['ID'], i['StressOnClitic'], i['StressOnWord'],  i['EndOfClause']) for i in dr]  # put the columns' names again\n",
    "\n",
    "cur1.executemany(\"INSERT INTO additive1 (ID, StressOnClitic, StressOnWord, EndOfClause) VALUES (?, ?, ?, ?);\", to_db)  # and again, the names of the columns\n",
    "\n",
    "for i in cur1.execute(\"SELECT * FROM additive1\"):\n",
    "    print(i)\n",
    "    \n",
    "con1.commit()"
   ]
  },
  {
   "cell_type": "markdown",
   "metadata": {},
   "source": [
    "The first table contains information about about the possibility to use particles in certain meanings with different parts of speech. The second table is devoted exclusively to formal features. Below these two tables will be joined by ID. I will use inner join to get all the qualities that are characteristic of ID  in question."
   ]
  },
  {
   "cell_type": "code",
   "execution_count": 11,
   "metadata": {},
   "outputs": [
    {
     "name": "stdout",
     "output_type": "stream",
     "text": [
      "[('201__An.104.1', 'Additive', 'Noun', '201__An.104.1', 'Yes', 'Yes', 'Yes'), ('201__An.115.1', 'Indef', 'Pronoun', '201__An.115.1', 'Yes', 'Yes', 'No'), ('201__An.125.1', 'Indef', 'Pronoun', '201__An.125.1', 'No', 'Yes', 'No'), ('201__An.129.1', 'Additive', 'Noun', '201__An.129.1', 'No', 'Yes', 'No'), ('201__An.13.1', 'ScalAdditive', 'Noun', '201__An.13.1', 'No', 'Yes', 'No'), ('201__An.146.1', 'ScalAdditive', 'Pronoun', '201__An.146.1', 'Yes', 'Yes', 'No'), ('201__An.156.1', 'Collective', 'Num', '201__An.156.1', 'Yes', 'Yes', 'No'), ('201__An.184.1', 'Additive', 'Adverb', '201__An.184.1', 'No', 'Yes', 'No'), ('201__An.193.1', 'Coordination', 'Verb', '201__An.193.1', 'Yes', 'Yes', 'No'), ('201__An.194.1', 'Coordination', 'Verb', '201__An.194.1', 'Yes', 'Yes', 'Yes'), ('201__An.197.1', 'Additive', 'Pronoun', '201__An.197.1', 'No', 'Yes', 'No'), ('201__An.198.1', 'Additive', 'Noun', '201__An.198.1', 'Yes', 'Yes', 'No'), ('201__An.199.1', 'Indef', 'Pronoun', '201__An.199.1', 'No', 'Yes', 'No'), ('201__An.204.1', 'Additive', 'Pronoun', '201__An.204.1', 'Yes', 'No', 'No'), ('201__An.236.1', 'Coordination', 'Verb', '201__An.236.1', 'Yes', 'Yes', 'No'), ('201__An.35.1', 'ScalAdditive', 'Adj', '201__An.35.1', 'No', 'Yes', 'No'), ('201__An.47.1', 'Neg', 'Pronoun', '201__An.47.1', 'Yes', 'Yes', 'No'), ('201__An.74.1', 'Coordination', 'Verb', '201__An.74.1', 'Yes', 'No', 'No'), ('201__An.96.1', 'Additive', 'Dem', '201__An.96.1', 'Yes', 'No', 'No'), ('201__Zi.10.1', 'Indef', 'Pronoun', '201__Zi.10.1', 'Yes', 'Yes', 'No'), ('201__Zi.10.1', 'Indef', 'Pronoun', '201__Zi.10.1', 'Yes', 'Yes', 'No'), ('201__Zi.10.1', 'Coordination', 'Noun', '201__Zi.10.1', 'Yes', 'Yes', 'No'), ('201__Zi.10.1', 'Coordination', 'Noun', '201__Zi.10.1', 'Yes', 'Yes', 'No'), ('201__Zi.12.1', 'Indef', 'Pronoun', '201__Zi.12.1', 'Yes', 'No', 'No'), ('201__Zi.13.1', 'Indef', 'Pronoun', '201__Zi.13.1', 'Yes', 'No', 'No'), ('201__Zi.21.1', 'ScalAdditive', 'Noun', '201__Zi.21.1', 'Yes', 'Yes', 'No')]\n"
     ]
    }
   ],
   "source": [
    "con2 = sqlite3.connect(\"additivefull.db\")\n",
    "cur = con.cursor()\n",
    "cur.execute('SELECT * FROM additive INNER JOIN additive1 ON additive.ID = additive1.ID')\n",
    "print(cur.fetchall())\n",
    "con2.commit()"
   ]
  },
  {
   "cell_type": "markdown",
   "metadata": {},
   "source": [
    "### Part1"
   ]
  },
  {
   "cell_type": "markdown",
   "metadata": {},
   "source": [
    "Next, the interaction of the various parameters discussed above will be considered in the combined table."
   ]
  },
  {
   "cell_type": "markdown",
   "metadata": {},
   "source": [
    "First, let's look at the cases when the stress falls on both the particle and the word (1) and compare this with the case when it does not fall either there or there (2)."
   ]
  },
  {
   "cell_type": "code",
   "execution_count": 13,
   "metadata": {},
   "outputs": [
    {
     "name": "stdout",
     "output_type": "stream",
     "text": [
      "[('201__An.104.1', 'Additive', 'Noun', '201__An.104.1', 'Yes', 'Yes', 'Yes'), ('201__An.115.1', 'Indef', 'Pronoun', '201__An.115.1', 'Yes', 'Yes', 'No'), ('201__An.146.1', 'ScalAdditive', 'Pronoun', '201__An.146.1', 'Yes', 'Yes', 'No'), ('201__An.156.1', 'Collective', 'Num', '201__An.156.1', 'Yes', 'Yes', 'No'), ('201__An.193.1', 'Coordination', 'Verb', '201__An.193.1', 'Yes', 'Yes', 'No'), ('201__An.194.1', 'Coordination', 'Verb', '201__An.194.1', 'Yes', 'Yes', 'Yes'), ('201__An.198.1', 'Additive', 'Noun', '201__An.198.1', 'Yes', 'Yes', 'No'), ('201__An.236.1', 'Coordination', 'Verb', '201__An.236.1', 'Yes', 'Yes', 'No'), ('201__An.47.1', 'Neg', 'Pronoun', '201__An.47.1', 'Yes', 'Yes', 'No'), ('201__Zi.10.1', 'Coordination', 'Noun', '201__Zi.10.1', 'Yes', 'Yes', 'No'), ('201__Zi.10.1', 'Indef', 'Pronoun', '201__Zi.10.1', 'Yes', 'Yes', 'No'), ('201__Zi.10.1', 'Coordination', 'Noun', '201__Zi.10.1', 'Yes', 'Yes', 'No'), ('201__Zi.10.1', 'Indef', 'Pronoun', '201__Zi.10.1', 'Yes', 'Yes', 'No'), ('201__Zi.21.1', 'ScalAdditive', 'Noun', '201__Zi.21.1', 'Yes', 'Yes', 'No')]\n"
     ]
    }
   ],
   "source": [
    "#1\n",
    "con2 = sqlite3.connect(\"additivefull.db\")\n",
    "cur = con.cursor()\n",
    "cur.execute('SELECT * FROM additive INNER JOIN additive1 ON additive.ID = additive1.ID WHERE StressOnWord=\"Yes\" AND StressOnClitic=\"Yes\"')\n",
    "print(cur.fetchall())\n",
    "con2.commit()"
   ]
  },
  {
   "cell_type": "code",
   "execution_count": 14,
   "metadata": {},
   "outputs": [
    {
     "name": "stdout",
     "output_type": "stream",
     "text": [
      "[]\n"
     ]
    }
   ],
   "source": [
    "#2\n",
    "con2 = sqlite3.connect(\"additivefull.db\")\n",
    "cur = con.cursor()\n",
    "cur.execute('SELECT * FROM additive INNER JOIN additive1 ON additive.ID = additive1.ID WHERE StressOnWord=\"No\" AND StressOnClitic=\"No\"')\n",
    "print(cur.fetchall())\n",
    "con2.commit()"
   ]
  },
  {
   "cell_type": "markdown",
   "metadata": {},
   "source": [
    "There are relatively many cases when the stress falls on both the word and the particle, while the absence of stress does not occur.\n",
    "Next, let us compare the number of cases when the stress falls on both the clitic and the word (1), and the clitic is at the end of the clause (3)."
   ]
  },
  {
   "cell_type": "code",
   "execution_count": 20,
   "metadata": {},
   "outputs": [
    {
     "name": "stdout",
     "output_type": "stream",
     "text": [
      "[('201__An.104.1', 'Additive', 'Noun', '201__An.104.1', 'Yes', 'Yes', 'Yes'), ('201__An.194.1', 'Coordination', 'Verb', '201__An.194.1', 'Yes', 'Yes', 'Yes')]\n"
     ]
    }
   ],
   "source": [
    "#3\n",
    "con3 = sqlite3.connect(\"additivefull.db\")\n",
    "cur = con.cursor()\n",
    "cur.execute('SELECT * FROM additive INNER JOIN additive1 ON additive.ID = additive1.ID WHERE StressOnWord=\"Yes\" AND StressOnClitic=\"Yes\" AND EndOfClause=\"Yes\"')\n",
    "print(cur.fetchall())\n",
    "con3.commit()"
   ]
  },
  {
   "cell_type": "markdown",
   "metadata": {},
   "source": [
    "In total, two examples were found that meet the conditions of the query. But the query below (4) shows that these are the only two examples in the database. Accordingly, in all cases when a particle occurs at the end of a clause, the stress falls simultaneously on both the word and the particle. In the future, it can be checked whether there is a correlation between these parameters."
   ]
  },
  {
   "cell_type": "code",
   "execution_count": 21,
   "metadata": {},
   "outputs": [
    {
     "name": "stdout",
     "output_type": "stream",
     "text": [
      "[('201__An.104.1', 'Additive', 'Noun', '201__An.104.1', 'Yes', 'Yes', 'Yes'), ('201__An.194.1', 'Coordination', 'Verb', '201__An.194.1', 'Yes', 'Yes', 'Yes')]\n"
     ]
    }
   ],
   "source": [
    "#4\n",
    "con4 = sqlite3.connect(\"additivefull.db\")\n",
    "cur = con.cursor()\n",
    "cur.execute('SELECT * FROM additive INNER JOIN additive1 ON additive.ID = additive1.ID WHERE EndOfClause=\"Yes\"')\n",
    "print(cur.fetchall())\n",
    "con4.commit()"
   ]
  },
  {
   "cell_type": "markdown",
   "metadata": {},
   "source": [
    "Let's take a closer look at examples where the particle is preceded by an pronoun (Pronoun)."
   ]
  },
  {
   "cell_type": "code",
   "execution_count": 24,
   "metadata": {},
   "outputs": [
    {
     "name": "stdout",
     "output_type": "stream",
     "text": [
      "[('201__An.115.1', 'Indef', 'Pronoun', '201__An.115.1', 'Yes', 'Yes', 'No'), ('201__An.125.1', 'Indef', 'Pronoun', '201__An.125.1', 'No', 'Yes', 'No'), ('201__An.146.1', 'ScalAdditive', 'Pronoun', '201__An.146.1', 'Yes', 'Yes', 'No'), ('201__An.197.1', 'Additive', 'Pronoun', '201__An.197.1', 'No', 'Yes', 'No'), ('201__An.199.1', 'Indef', 'Pronoun', '201__An.199.1', 'No', 'Yes', 'No'), ('201__An.204.1', 'Additive', 'Pronoun', '201__An.204.1', 'Yes', 'No', 'No'), ('201__An.47.1', 'Neg', 'Pronoun', '201__An.47.1', 'Yes', 'Yes', 'No'), ('201__Zi.10.1', 'Indef', 'Pronoun', '201__Zi.10.1', 'Yes', 'Yes', 'No'), ('201__Zi.10.1', 'Indef', 'Pronoun', '201__Zi.10.1', 'Yes', 'Yes', 'No'), ('201__Zi.12.1', 'Indef', 'Pronoun', '201__Zi.12.1', 'Yes', 'No', 'No'), ('201__Zi.13.1', 'Indef', 'Pronoun', '201__Zi.13.1', 'Yes', 'No', 'No')]\n"
     ]
    }
   ],
   "source": [
    "#5\n",
    "con2 = sqlite3.connect(\"additivefull.db\")\n",
    "cur = con.cursor()\n",
    "cur.execute('SELECT * FROM additive INNER JOIN additive1 ON additive.ID = additive1.ID WHERE PartOfSpeech=\"Pronoun\"')\n",
    "print(cur.fetchall())\n",
    "con2.commit()"
   ]
  },
  {
   "cell_type": "markdown",
   "metadata": {},
   "source": [
    "In comparison with (6), it can be noted that the particle is used in the meaning of indefinite pronoun (Штвуа) only after pronouns. At the same time, a particle can be attached to pronouns in other functions. For example, the particle after pronoun can be scalar additive (ScalAdditive). "
   ]
  },
  {
   "cell_type": "code",
   "execution_count": 25,
   "metadata": {},
   "outputs": [
    {
     "name": "stdout",
     "output_type": "stream",
     "text": [
      "[('201__An.115.1', 'Indef', 'Pronoun', '201__An.115.1', 'Yes', 'Yes', 'No'), ('201__An.125.1', 'Indef', 'Pronoun', '201__An.125.1', 'No', 'Yes', 'No'), ('201__An.199.1', 'Indef', 'Pronoun', '201__An.199.1', 'No', 'Yes', 'No'), ('201__Zi.10.1', 'Indef', 'Pronoun', '201__Zi.10.1', 'Yes', 'Yes', 'No'), ('201__Zi.10.1', 'Indef', 'Pronoun', '201__Zi.10.1', 'Yes', 'Yes', 'No'), ('201__Zi.12.1', 'Indef', 'Pronoun', '201__Zi.12.1', 'Yes', 'No', 'No'), ('201__Zi.13.1', 'Indef', 'Pronoun', '201__Zi.13.1', 'Yes', 'No', 'No')]\n"
     ]
    }
   ],
   "source": [
    "#6\n",
    "con2 = sqlite3.connect(\"additivefull.db\")\n",
    "cur = con.cursor()\n",
    "cur.execute('SELECT * FROM additive INNER JOIN additive1 ON additive.ID = additive1.ID WHERE PartOfSpeech=\"Pronoun\" AND Meaning=\"Indef\"')\n",
    "print(cur.fetchall())\n",
    "con2.commit()"
   ]
  },
  {
   "cell_type": "markdown",
   "metadata": {},
   "source": [
    "### Part3"
   ]
  },
  {
   "cell_type": "markdown",
   "metadata": {},
   "source": [
    "In this section, the data will be visualized."
   ]
  },
  {
   "cell_type": "code",
   "execution_count": 9,
   "metadata": {},
   "outputs": [],
   "source": [
    "data = pd.read_csv('d.csv', index_col=0) #Download data for visualization. "
   ]
  },
  {
   "cell_type": "markdown",
   "metadata": {},
   "source": [
    "First of all, let's look at what meanings the particle is most often used in in the database. The most convenient way to do this is to use an ordered bar chart."
   ]
  },
  {
   "cell_type": "code",
   "execution_count": 10,
   "metadata": {},
   "outputs": [
    {
     "data": {
      "text/plain": [
       "Text(0, 0.5, 'Counts')"
      ]
     },
     "execution_count": 10,
     "metadata": {},
     "output_type": "execute_result"
    },
    {
     "data": {
      "image/png": "[encoded data removed]",
      "text/plain": [
       "<Figure size 432x288 with 1 Axes>"
      ]
     },
     "metadata": {
      "needs_background": "light"
     },
     "output_type": "display_data"
    }
   ],
   "source": [
    "data['Meaning'].value_counts().plot.bar(color='purple'); # барплот сразу из датафрейма\n",
    "plt.title('Meanings')\n",
    "plt.xlabel('Meaning')\n",
    "plt.ylabel('Counts')"
   ]
  },
  {
   "cell_type": "markdown",
   "metadata": {},
   "source": [
    "From the graph you can see that most often the particle occurs in Additive function. This looks to be expected, since this function is considered the main function for this particle."
   ]
  },
  {
   "cell_type": "markdown",
   "metadata": {},
   "source": [
    "Secondly, let's look at the distribution of using different functions with different parts of speech. To do this, I will use a bar chat again, but inside which different parts of speech will be marked by colors."
   ]
  },
  {
   "cell_type": "code",
   "execution_count": 11,
   "metadata": {},
   "outputs": [
    {
     "data": {
      "image/png": "[encoded data removed]",
      "text/plain": [
       "<Figure size 640x480 with 1 Axes>"
      ]
     },
     "metadata": {},
     "output_type": "display_data"
    },
    {
     "data": {
      "text/plain": [
       "<ggplot: (-9223363266941240979)>"
      ]
     },
     "execution_count": 11,
     "metadata": {},
     "output_type": "execute_result"
    }
   ],
   "source": [
    "ggplot(data, aes(x='Meaning', fill = 'PartOfSpeech')) + \\\n",
    "    geom_bar(stat = 'count')"
   ]
  },
  {
   "cell_type": "markdown",
   "metadata": {},
   "source": [
    "You can see that only pronouns are found in the Indef function. It can also be noted that in Coordination function, the particle occurs most often after the verb. In an Additive function, the particle is attached to a greater variety of parts of speech than in other functions."
   ]
  },
  {
   "cell_type": "markdown",
   "metadata": {},
   "source": [
    "Thirdly, let's create a pie graph showing the ratio of the particle usage at the end of the clause and in other positions."
   ]
  },
  {
   "cell_type": "code",
   "execution_count": 12,
   "metadata": {},
   "outputs": [
    {
     "data": {
      "image/png": "[encoded data removed]",
      "text/plain": [
       "<Figure size 432x432 with 1 Axes>"
      ]
     },
     "metadata": {},
     "output_type": "display_data"
    }
   ],
   "source": [
    "plt.figure(figsize=(6, 6))\n",
    "data['EndOfClause'].value_counts().plot(kind='pie');\n",
    "plt.title('EndOfClause');"
   ]
  },
  {
   "cell_type": "markdown",
   "metadata": {},
   "source": [
    "This graph shows that the particle is extremely rare at the end of a sentence."
   ]
  },
  {
   "cell_type": "markdown",
   "metadata": {},
   "source": [
    "The last graph shows in which functions the particle occurs at the end of a sentence and in other positions. In this case, it is more convenient to use not color filling, but several columns, since only two parameters are considered along the X axis."
   ]
  },
  {
   "cell_type": "code",
   "execution_count": 15,
   "metadata": {},
   "outputs": [
    {
     "data": {
      "image/png": "[encoded data removed]",
      "text/plain": [
       "<Figure size 432x288 with 1 Axes>"
      ]
     },
     "metadata": {
      "needs_background": "light"
     },
     "output_type": "display_data"
    }
   ],
   "source": [
    "df2 = data[\n",
    "    (data['Meaning'] != '') & (data['Meaning'] != 'Additive')\n",
    "][\n",
    "    ['EndOfClause', 'Meaning', 'StressOnClitic']\n",
    "].groupby(['EndOfClause', 'Meaning'], as_index=False).count()\n",
    "\n",
    "df2.columns = ['EndOfClause', 'Meaning', 'total']\n",
    "sns.barplot(x=\"EndOfClause\", y=\"total\", hue='Meaning', data=df2)\n",
    "plt.title('Meaning by EndOfClause')\n",
    "plt.xlabel('EndOfClause')\n",
    "plt.ylabel('number of entries');"
   ]
  },
  {
   "cell_type": "markdown",
   "metadata": {},
   "source": [
    "This graph allows us to conclude that at the end of the sentence, the particle occurs only in Coordination function."
   ]
  }
 ],
 "metadata": {
  "kernelspec": {
   "display_name": "Python 3",
   "language": "python",
   "name": "python3"
  },
  "language_info": {
   "codemirror_mode": {
    "name": "ipython",
    "version": 3
   },
   "file_extension": ".py",
   "mimetype": "text/x-python",
   "name": "python",
   "nbconvert_exporter": "python",
   "pygments_lexer": "ipython3",
   "version": "3.6.11"
  }
 },
 "nbformat": 4,
 "nbformat_minor": 4
}
